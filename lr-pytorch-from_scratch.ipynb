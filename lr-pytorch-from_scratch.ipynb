{
 "cells": [
  {
   "cell_type": "code",
   "execution_count": 104,
   "metadata": {
    "collapsed": true
   },
   "outputs": [],
   "source": [
    "import numpy as np\n",
    "import torch\n",
    "import pandas as pd\n",
    "import math"
   ]
  },
  {
   "cell_type": "code",
   "execution_count": 83,
   "outputs": [],
   "source": [
    "df = pd.read_csv('./data/winequality-red.csv', delimiter=';',skiprows=1, header=None)\n",
    "df_input  = df.iloc[ :, :11]\n",
    "df_output = df.iloc[:, -1:]"
   ],
   "metadata": {
    "collapsed": false,
    "pycharm": {
     "name": "#%%\n"
    }
   }
  },
  {
   "cell_type": "code",
   "execution_count": 84,
   "outputs": [],
   "source": [
    "input_np_array = df_input.to_numpy()\n",
    "output_np_array = df_output.to_numpy()"
   ],
   "metadata": {
    "collapsed": false,
    "pycharm": {
     "name": "#%%\n"
    }
   }
  },
  {
   "cell_type": "code",
   "execution_count": 85,
   "outputs": [
    {
     "data": {
      "text/plain": "array([[ 7.4  ,  0.7  ,  0.   , ...,  3.51 ,  0.56 ,  9.4  ],\n       [ 7.8  ,  0.88 ,  0.   , ...,  3.2  ,  0.68 ,  9.8  ],\n       [ 7.8  ,  0.76 ,  0.04 , ...,  3.26 ,  0.65 ,  9.8  ],\n       ...,\n       [ 6.3  ,  0.51 ,  0.13 , ...,  3.42 ,  0.75 , 11.   ],\n       [ 5.9  ,  0.645,  0.12 , ...,  3.57 ,  0.71 , 10.2  ],\n       [ 6.   ,  0.31 ,  0.47 , ...,  3.39 ,  0.66 , 11.   ]])"
     },
     "execution_count": 85,
     "metadata": {},
     "output_type": "execute_result"
    }
   ],
   "source": [
    "input_np_array"
   ],
   "metadata": {
    "collapsed": false,
    "pycharm": {
     "name": "#%%\n"
    }
   }
  },
  {
   "cell_type": "code",
   "execution_count": 86,
   "outputs": [
    {
     "data": {
      "text/plain": "array([[5],\n       [5],\n       [5],\n       ...,\n       [6],\n       [5],\n       [6]])"
     },
     "execution_count": 86,
     "metadata": {},
     "output_type": "execute_result"
    }
   ],
   "source": [
    "output_np_array"
   ],
   "metadata": {
    "collapsed": false,
    "pycharm": {
     "name": "#%%\n"
    }
   }
  },
  {
   "cell_type": "code",
   "execution_count": 87,
   "outputs": [],
   "source": [
    "input = torch.from_numpy(input_np_array)\n",
    "target = torch.from_numpy(output_np_array)"
   ],
   "metadata": {
    "collapsed": false,
    "pycharm": {
     "name": "#%%\n"
    }
   }
  },
  {
   "cell_type": "code",
   "execution_count": 88,
   "outputs": [
    {
     "data": {
      "text/plain": "tensor([[ 7.4000,  0.7000,  0.0000,  ...,  3.5100,  0.5600,  9.4000],\n        [ 7.8000,  0.8800,  0.0000,  ...,  3.2000,  0.6800,  9.8000],\n        [ 7.8000,  0.7600,  0.0400,  ...,  3.2600,  0.6500,  9.8000],\n        ...,\n        [ 6.3000,  0.5100,  0.1300,  ...,  3.4200,  0.7500, 11.0000],\n        [ 5.9000,  0.6450,  0.1200,  ...,  3.5700,  0.7100, 10.2000],\n        [ 6.0000,  0.3100,  0.4700,  ...,  3.3900,  0.6600, 11.0000]],\n       dtype=torch.float64)"
     },
     "execution_count": 88,
     "metadata": {},
     "output_type": "execute_result"
    }
   ],
   "source": [
    "input"
   ],
   "metadata": {
    "collapsed": false,
    "pycharm": {
     "name": "#%%\n"
    }
   }
  },
  {
   "cell_type": "code",
   "execution_count": 89,
   "outputs": [
    {
     "data": {
      "text/plain": "tensor([[5],\n        [5],\n        [5],\n        ...,\n        [6],\n        [5],\n        [6]])"
     },
     "execution_count": 89,
     "metadata": {},
     "output_type": "execute_result"
    }
   ],
   "source": [
    "target"
   ],
   "metadata": {
    "collapsed": false,
    "pycharm": {
     "name": "#%%\n"
    }
   }
  },
  {
   "cell_type": "code",
   "execution_count": 90,
   "outputs": [
    {
     "name": "stdout",
     "output_type": "stream",
     "text": [
      "tensor([[-0.9462, -1.0668, -0.2466, -0.3592,  1.4917, -0.7217, -1.8868, -0.1667,\n",
      "         -0.1316,  1.0876,  0.5102]], requires_grad=True)\n",
      "tensor([[-0.3371],\n",
      "        [-0.9961],\n",
      "        [ 1.4825],\n",
      "        ...,\n",
      "        [-0.4272],\n",
      "        [-0.3894],\n",
      "        [ 0.1405]], requires_grad=True)\n"
     ]
    }
   ],
   "source": [
    "# weights and biases\n",
    "# Y = X * W.T + b\n",
    "w = torch.randn(1, 11, requires_grad=True)\n",
    "b = torch.randn(1599, 1, requires_grad=True)\n",
    "print(w)\n",
    "print(b)"
   ],
   "metadata": {
    "collapsed": false,
    "pycharm": {
     "name": "#%%\n"
    }
   }
  },
  {
   "cell_type": "code",
   "execution_count": 91,
   "outputs": [],
   "source": [
    "def lin_model(x):\n",
    "    return x @ w.t() + b"
   ],
   "metadata": {
    "collapsed": false,
    "pycharm": {
     "name": "#%%\n"
    }
   }
  },
  {
   "cell_type": "code",
   "execution_count": 92,
   "outputs": [
    {
     "name": "stdout",
     "output_type": "stream",
     "text": [
      "tensor([[ -75.9696],\n",
      "        [-149.4121],\n",
      "        [-115.0108],\n",
      "        ...,\n",
      "        [ -98.2690],\n",
      "        [-108.0720],\n",
      "        [ -93.6967]], grad_fn=<AddBackward0>)\n",
      "torch.Size([1599, 1])\n"
     ]
    }
   ],
   "source": [
    "# Generate predictions\n",
    "preds = lin_model(input.float())\n",
    "print(preds)\n",
    "print(preds.shape)"
   ],
   "metadata": {
    "collapsed": false,
    "pycharm": {
     "name": "#%%\n"
    }
   }
  },
  {
   "cell_type": "markdown",
   "source": [
    "Predictions are way out of range"
   ],
   "metadata": {
    "collapsed": false,
    "pycharm": {
     "name": "#%% md\n"
    }
   }
  },
  {
   "cell_type": "code",
   "source": [
    "diff = target - preds\n",
    "diff\n"
   ],
   "metadata": {
    "collapsed": false,
    "pycharm": {
     "name": "#%%\n"
    }
   },
   "execution_count": 93,
   "outputs": [
    {
     "data": {
      "text/plain": "tensor([[ 80.9696],\n        [154.4121],\n        [120.0108],\n        ...,\n        [104.2690],\n        [113.0720],\n        [ 99.6967]], grad_fn=<SubBackward0>)"
     },
     "execution_count": 93,
     "metadata": {},
     "output_type": "execute_result"
    }
   ]
  },
  {
   "cell_type": "code",
   "execution_count": 95,
   "outputs": [
    {
     "data": {
      "text/plain": "tensor(16327.6074, grad_fn=<DivBackward0>)"
     },
     "execution_count": 95,
     "metadata": {},
     "output_type": "execute_result"
    }
   ],
   "source": [
    "diff_sq = diff * diff\n",
    "diff_sq\n",
    "torch.sum(diff_sq) / diff.numel()\n"
   ],
   "metadata": {
    "collapsed": false,
    "pycharm": {
     "name": "#%%\n"
    }
   }
  },
  {
   "cell_type": "code",
   "execution_count": 96,
   "outputs": [],
   "source": [
    "# MSE loss\n",
    "def mse(t1, t2):\n",
    "    d = t1 - t2\n",
    "    return torch.sum(d * d) / t1.numel()"
   ],
   "metadata": {
    "collapsed": false,
    "pycharm": {
     "name": "#%%\n"
    }
   }
  },
  {
   "cell_type": "code",
   "execution_count": 98,
   "outputs": [
    {
     "name": "stdout",
     "output_type": "stream",
     "text": [
      "tensor(16327.6074, grad_fn=<DivBackward0>)\n"
     ]
    }
   ],
   "source": [
    "loss = mse(target, preds)\n",
    "print(loss)"
   ],
   "metadata": {
    "collapsed": false,
    "pycharm": {
     "name": "#%%\n"
    }
   }
  },
  {
   "cell_type": "code",
   "execution_count": 105,
   "outputs": [
    {
     "name": "stdout",
     "output_type": "stream",
     "text": [
      "sq root of loss:  127.77952661469286\n"
     ]
    }
   ],
   "source": [
    "print('sq root of loss: ', math.sqrt(loss))"
   ],
   "metadata": {
    "collapsed": false,
    "pycharm": {
     "name": "#%%\n"
    }
   }
  },
  {
   "cell_type": "markdown",
   "source": [
    "each prediction is way off by nearly 127\n",
    "\n"
   ],
   "metadata": {
    "collapsed": false,
    "pycharm": {
     "name": "#%% md\n"
    }
   }
  },
  {
   "cell_type": "code",
   "execution_count": 106,
   "outputs": [],
   "source": [
    "# Compute gradients\n",
    "loss.backward()"
   ],
   "metadata": {
    "collapsed": false,
    "pycharm": {
     "name": "#%%\n"
    }
   }
  },
  {
   "cell_type": "code",
   "execution_count": 107,
   "outputs": [
    {
     "name": "stdout",
     "output_type": "stream",
     "text": [
      "w : tensor([[-0.9462, -1.0668, -0.2466, -0.3592,  1.4917, -0.7217, -1.8868, -0.1667,\n",
      "         -0.1316,  1.0876,  0.5102]], requires_grad=True)\n",
      "w.grad : tensor([[ -1785.9651,   -116.2308,    -60.0336,   -593.2161,    -19.2996,\n",
      "          -4470.6685, -14503.1465,   -216.6498,   -718.1283,   -144.1647,\n",
      "          -2236.5405]])\n"
     ]
    }
   ],
   "source": [
    "# Gradients for weights\n",
    "print('w :', w)\n",
    "print('w.grad :', w.grad)"
   ],
   "metadata": {
    "collapsed": false,
    "pycharm": {
     "name": "#%%\n"
    }
   }
  },
  {
   "cell_type": "code",
   "execution_count": 108,
   "outputs": [
    {
     "name": "stdout",
     "output_type": "stream",
     "text": [
      "b:  tensor([[-0.3371],\n",
      "        [-0.9961],\n",
      "        [ 1.4825],\n",
      "        ...,\n",
      "        [-0.4272],\n",
      "        [-0.3894],\n",
      "        [ 0.1405]], requires_grad=True)\n",
      "b.grad:  tensor([[-0.1013],\n",
      "        [-0.1931],\n",
      "        [-0.1501],\n",
      "        ...,\n",
      "        [-0.1304],\n",
      "        [-0.1414],\n",
      "        [-0.1247]])\n"
     ]
    }
   ],
   "source": [
    "print('b: ', b)\n",
    "print('b.grad: ', b.grad)"
   ],
   "metadata": {
    "collapsed": false,
    "pycharm": {
     "name": "#%%\n"
    }
   }
  },
  {
   "cell_type": "markdown",
   "source": [
    "If a gradient element is -ve:\n",
    "1. increase element's value => loss decreases\n",
    "2. decrease element's value => loss increases\n",
    "\n"
   ],
   "metadata": {
    "collapsed": false,
    "pycharm": {
     "name": "#%% md\n"
    }
   }
  },
  {
   "cell_type": "code",
   "execution_count": 109,
   "outputs": [
    {
     "name": "stdout",
     "output_type": "stream",
     "text": [
      "w grad :  tensor([[0., 0., 0., 0., 0., 0., 0., 0., 0., 0., 0.]])\n",
      "b grad:  tensor([[0.],\n",
      "        [0.],\n",
      "        [0.],\n",
      "        ...,\n",
      "        [0.],\n",
      "        [0.],\n",
      "        [0.]])\n"
     ]
    }
   ],
   "source": [
    "# reset w and b gradients back to zero\n",
    "w.grad.zero_()\n",
    "b.grad.zero_()\n",
    "print('w grad : ', w.grad)\n",
    "print('b grad: ', b.grad)"
   ],
   "metadata": {
    "collapsed": false,
    "pycharm": {
     "name": "#%%\n"
    }
   }
  },
  {
   "cell_type": "markdown",
   "source": [
    "Adjust weights and biases using Gradient Descent optimisation algo\n",
    "1. Generate predictions\n",
    "2. Calculate loss\n",
    "3. Compute gradient w.r.t. the weights and biases\n",
    "4. Adjust weights by subtracting a small quantity proportional to the gradient\n",
    "5. Reset the gradients to zero\n",
    "\n"
   ],
   "metadata": {
    "collapsed": false,
    "pycharm": {
     "name": "#%% md\n"
    }
   }
  },
  {
   "cell_type": "code",
   "execution_count": 112,
   "outputs": [
    {
     "name": "stdout",
     "output_type": "stream",
     "text": [
      "tensor([[ -75.9696],\n",
      "        [-149.4121],\n",
      "        [-115.0108],\n",
      "        ...,\n",
      "        [ -98.2690],\n",
      "        [-108.0720],\n",
      "        [ -93.6967]], grad_fn=<AddBackward0>)\n"
     ]
    }
   ],
   "source": [
    "#1. Generate predictions\n",
    "\n",
    "preds = lin_model(input.float())\n",
    "print(preds)\n",
    "# same as above"
   ],
   "metadata": {
    "collapsed": false,
    "pycharm": {
     "name": "#%%\n"
    }
   }
  },
  {
   "cell_type": "code",
   "execution_count": 113,
   "outputs": [
    {
     "name": "stdout",
     "output_type": "stream",
     "text": [
      "tensor(16327.6074, grad_fn=<DivBackward0>)\n"
     ]
    }
   ],
   "source": [
    "#2. Calculate loss\n",
    "loss = mse(preds, target)\n",
    "print(loss)\n"
   ],
   "metadata": {
    "collapsed": false,
    "pycharm": {
     "name": "#%%\n"
    }
   }
  },
  {
   "cell_type": "code",
   "execution_count": 114,
   "outputs": [
    {
     "name": "stdout",
     "output_type": "stream",
     "text": [
      "tensor([[ -1785.9651,   -116.2308,    -60.0336,   -593.2161,    -19.2996,\n",
      "          -4470.6685, -14503.1465,   -216.6498,   -718.1283,   -144.1647,\n",
      "          -2236.5405]])\n",
      "tensor([[-0.1013],\n",
      "        [-0.1931],\n",
      "        [-0.1501],\n",
      "        ...,\n",
      "        [-0.1304],\n",
      "        [-0.1414],\n",
      "        [-0.1247]])\n"
     ]
    }
   ],
   "source": [
    "# 3. Compute gradient w.r.t. the weights and biases\n",
    "loss.backward()\n",
    "print(w.grad)\n",
    "print(b.grad)"
   ],
   "metadata": {
    "collapsed": false,
    "pycharm": {
     "name": "#%%\n"
    }
   }
  },
  {
   "cell_type": "code",
   "execution_count": 115,
   "outputs": [],
   "source": [
    "# 4. Adjust weights by subtracting a small quantity proportional to the gradient\n",
    "with torch.no_grad():\n",
    "    w -= w.grad * 1e-5\n",
    "    b -= b.grad * 1e-5\n",
    "    w.grad.zero_()\n",
    "    b.grad.zero_()"
   ],
   "metadata": {
    "collapsed": false,
    "pycharm": {
     "name": "#%%\n"
    }
   }
  },
  {
   "cell_type": "code",
   "execution_count": 116,
   "outputs": [
    {
     "name": "stdout",
     "output_type": "stream",
     "text": [
      "tensor([[-0.9284, -1.0656, -0.2460, -0.3533,  1.4919, -0.6770, -1.7418, -0.1645,\n",
      "         -0.1244,  1.0891,  0.5326]], requires_grad=True)\n",
      "tensor([[-0.3371],\n",
      "        [-0.9961],\n",
      "        [ 1.4825],\n",
      "        ...,\n",
      "        [-0.4272],\n",
      "        [-0.3894],\n",
      "        [ 0.1405]], requires_grad=True)\n"
     ]
    }
   ],
   "source": [
    "print(w)\n",
    "print(b)"
   ],
   "metadata": {
    "collapsed": false,
    "pycharm": {
     "name": "#%%\n"
    }
   }
  },
  {
   "cell_type": "code",
   "execution_count": 119,
   "outputs": [
    {
     "name": "stdout",
     "output_type": "stream",
     "text": [
      "tensor(14020.7471, grad_fn=<DivBackward0>)\n"
     ]
    }
   ],
   "source": [
    "# Calculate loss\n",
    "preds = lin_model(input.float())\n",
    "loss = mse(preds, target)\n",
    "print(loss)\n"
   ],
   "metadata": {
    "collapsed": false,
    "pycharm": {
     "name": "#%%\n"
    }
   }
  },
  {
   "cell_type": "markdown",
   "source": [
    "Train for multiple epochs\n"
   ],
   "metadata": {
    "collapsed": false,
    "pycharm": {
     "name": "#%% md\n"
    }
   }
  },
  {
   "cell_type": "code",
   "execution_count": 121,
   "outputs": [],
   "source": [
    "# Train for 1000 epochs\n",
    "for i in range(1000):\n",
    "    preds = lin_model(input.float())\n",
    "    loss = mse(preds, target)\n",
    "    loss.backward()\n",
    "    with torch.no_grad():\n",
    "        w -= w.grad * 1e-5\n",
    "        b -= b.grad * 1e-5\n",
    "        w.grad.zero_()\n",
    "        b.grad.zero_()"
   ],
   "metadata": {
    "collapsed": false,
    "pycharm": {
     "name": "#%%\n"
    }
   }
  },
  {
   "cell_type": "code",
   "execution_count": 122,
   "outputs": [
    {
     "name": "stdout",
     "output_type": "stream",
     "text": [
      "tensor(3.4323, grad_fn=<DivBackward0>)\n"
     ]
    }
   ],
   "source": [
    "preds = lin_model(input.float())\n",
    "loss = mse(preds, target)\n",
    "print(loss)\n",
    "# quite low loss  tensor(3.4323, grad_fn=<DivBackward0>)\n",
    "# initital tensor(16327.6074, grad_fn=<DivBackward0>)"
   ],
   "metadata": {
    "collapsed": false,
    "pycharm": {
     "name": "#%%\n"
    }
   }
  },
  {
   "cell_type": "code",
   "execution_count": null,
   "outputs": [],
   "source": [],
   "metadata": {
    "collapsed": false,
    "pycharm": {
     "name": "#%%\n"
    }
   }
  }
 ],
 "metadata": {
  "kernelspec": {
   "name": "pycharm-b9381ad",
   "language": "python",
   "display_name": "PyCharm (AI-ML)"
  },
  "language_info": {
   "codemirror_mode": {
    "name": "ipython",
    "version": 2
   },
   "file_extension": ".py",
   "mimetype": "text/x-python",
   "name": "python",
   "nbconvert_exporter": "python",
   "pygments_lexer": "ipython2",
   "version": "2.7.6"
  }
 },
 "nbformat": 4,
 "nbformat_minor": 0
}